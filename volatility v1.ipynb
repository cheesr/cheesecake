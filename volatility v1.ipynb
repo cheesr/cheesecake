{
 "cells": [
  {
   "cell_type": "code",
   "execution_count": 1,
   "metadata": {},
   "outputs": [],
   "source": [
    "# Import shit\n",
    "import numpy as np\n",
    "import pandas as pd\n",
    "import matplotlib.pyplot as plt\n",
    "import matplotlib.style"
   ]
  },
  {
   "cell_type": "code",
   "execution_count": 2,
   "metadata": {},
   "outputs": [],
   "source": [
    "# Import first column to use as headers\n",
    "df_h = pd.read_csv(\"data_file/O_volatility.csv\", \n",
    "                 skiprows=1,\n",
    "                  usecols=[0],\n",
    "                  nrows=23,\n",
    "                  names=['head'])\n",
    "df_h = df_h['head'].tolist()\n",
    "headers = ['date']\n",
    "headers.extend(df_h)"
   ]
  },
  {
   "cell_type": "code",
   "execution_count": 3,
   "metadata": {},
   "outputs": [],
   "source": [
    "# Import and create dictionary for headers\n",
    "    # Import\n",
    "h_dict = pd.read_csv(\"data_file/O_volatility.csv\", \n",
    "                 skiprows=1,\n",
    "                  usecols=[0,1],\n",
    "                  names=['code','header'],\n",
    "                  nrows=23)\n",
    "\n",
    "    # Drop 'Access Denied'\n",
    "h_dict = h_dict[h_dict.header.str.contains(\"Access Denied\")==False]\n",
    "\n",
    "    # Create dict with index \"header\", value \"code\"\n",
    "widget_dict = list(h_dict.set_index('header').to_dict().values()).pop()\n"
   ]
  },
  {
   "cell_type": "code",
   "execution_count": 4,
   "metadata": {},
   "outputs": [],
   "source": [
    "# Import rest of file and apply headers\n",
    "df = pd.read_csv(\"data_file/O_volatility.csv\", \n",
    "                 na_values=['#N/A'],\n",
    "                 usecols=[3,4,5,6,7,8,9,10,11,12,13,14,15,16,17,18,19,20,21,22,23,24,25,26],\n",
    "                 skiprows=2,\n",
    "                names=headers)\n",
    "\n",
    "# Drop columns that contain \"do not\"; ie that have no permission\n",
    "for column in df:\n",
    "    if \"do not \" in str(df.loc[0,column]):\n",
    "        df = df.drop(column, axis=1)"
   ]
  },
  {
   "cell_type": "code",
   "execution_count": 5,
   "metadata": {},
   "outputs": [],
   "source": [
    "# Converts date to datetime format, specifying original format\n",
    "df['date'] = pd.to_datetime(df.date, format='%d/%m/%y')"
   ]
  },
  {
   "cell_type": "code",
   "execution_count": 6,
   "metadata": {},
   "outputs": [
    {
     "data": {
      "application/vnd.jupyter.widget-view+json": {
       "model_id": "1cfc77082afd442296ff553e74a66c69",
       "version_major": 2,
       "version_minor": 0
      },
      "text/html": [
       "<p>Failed to display Jupyter Widget of type <code>Dropdown</code>.</p>\n",
       "<p>\n",
       "  If you're reading this message in the Jupyter Notebook or JupyterLab Notebook, it may mean\n",
       "  that the widgets JavaScript is still loading. If this message persists, it\n",
       "  likely means that the widgets JavaScript library is either not installed or\n",
       "  not enabled. See the <a href=\"https://ipywidgets.readthedocs.io/en/stable/user_install.html\">Jupyter\n",
       "  Widgets Documentation</a> for setup instructions.\n",
       "</p>\n",
       "<p>\n",
       "  If you're reading this message in another frontend (for example, a static\n",
       "  rendering on GitHub or <a href=\"https://nbviewer.jupyter.org/\">NBViewer</a>),\n",
       "  it may mean that your frontend doesn't currently support widgets.\n",
       "</p>\n"
      ],
      "text/plain": [
       "Dropdown(description='Market:', options={'MKT VOLTLTY ND/d': '.VIX', 'CBOE S&P500 3M/d': '.VIX3M', 'CBOE BP SP500V/d': '.BVZ', 'NASDAQ MKT VOL/d': '.VXN', 'CBOE RUS 2000 /d': '.RVX', 'DJIA VOLATILIT/d': '.VXD', 'OEX MKT VOL ND/d': '.VXO', 'S&P CompLow Vo/d': '.GSPTXLV', 'EURO STOXX VOL/d': '.V2TX', 'FTSE 100 VOL IND': '.VFTSE', 'CAC 40 VOLA ID/d': '.VCAC', 'DAX-NEW VOLATI/d': '.V1XI', 'AEX VOLT INDEX/d': '.VAEX', 'VSMI VOLATILIT/d': '.V3X', 'HSI VOLATILITY/d': '.VHSI', 'HANG SENG L V /d': '.HSLVI', 'Volatility Ind/d': '.KSVKOSPI', 'SAVI TOP 40     ': '.JSAVI'}, value='.VIX')"
      ]
     },
     "metadata": {},
     "output_type": "display_data"
    },
    {
     "data": {
      "application/vnd.jupyter.widget-view+json": {
       "model_id": "a49725cfe618468fa2fbccd121e6d605",
       "version_major": 2,
       "version_minor": 0
      },
      "text/html": [
       "<p>Failed to display Jupyter Widget of type <code>DatePicker</code>.</p>\n",
       "<p>\n",
       "  If you're reading this message in the Jupyter Notebook or JupyterLab Notebook, it may mean\n",
       "  that the widgets JavaScript is still loading. If this message persists, it\n",
       "  likely means that the widgets JavaScript library is either not installed or\n",
       "  not enabled. See the <a href=\"https://ipywidgets.readthedocs.io/en/stable/user_install.html\">Jupyter\n",
       "  Widgets Documentation</a> for setup instructions.\n",
       "</p>\n",
       "<p>\n",
       "  If you're reading this message in another frontend (for example, a static\n",
       "  rendering on GitHub or <a href=\"https://nbviewer.jupyter.org/\">NBViewer</a>),\n",
       "  it may mean that your frontend doesn't currently support widgets.\n",
       "</p>\n"
      ],
      "text/plain": [
       "DatePicker(value=None, description='Start Date')"
      ]
     },
     "metadata": {},
     "output_type": "display_data"
    },
    {
     "data": {
      "application/vnd.jupyter.widget-view+json": {
       "model_id": "3750f1b359a14f9098c481507067dbd8",
       "version_major": 2,
       "version_minor": 0
      },
      "text/html": [
       "<p>Failed to display Jupyter Widget of type <code>DatePicker</code>.</p>\n",
       "<p>\n",
       "  If you're reading this message in the Jupyter Notebook or JupyterLab Notebook, it may mean\n",
       "  that the widgets JavaScript is still loading. If this message persists, it\n",
       "  likely means that the widgets JavaScript library is either not installed or\n",
       "  not enabled. See the <a href=\"https://ipywidgets.readthedocs.io/en/stable/user_install.html\">Jupyter\n",
       "  Widgets Documentation</a> for setup instructions.\n",
       "</p>\n",
       "<p>\n",
       "  If you're reading this message in another frontend (for example, a static\n",
       "  rendering on GitHub or <a href=\"https://nbviewer.jupyter.org/\">NBViewer</a>),\n",
       "  it may mean that your frontend doesn't currently support widgets.\n",
       "</p>\n"
      ],
      "text/plain": [
       "DatePicker(value=None, description='End Date')"
      ]
     },
     "metadata": {},
     "output_type": "display_data"
    }
   ],
   "source": [
    "# Create widgets for user input\n",
    "    # Imports\n",
    "import ipywidgets as wg\n",
    "from IPython.display import display\n",
    "\n",
    "    # Market selection\n",
    "market = wg.Dropdown(\n",
    "    options=widget_dict,\n",
    "    description='Market:',\n",
    ")\n",
    "    # Start and end date selection\n",
    "s_date = wg.DatePicker(\n",
    "    description='Start Date')\n",
    "e_date = wg.DatePicker(\n",
    "    description='End Date')\n",
    "    \n",
    "    # Displays\n",
    "display(market,s_date, e_date)\n",
    "\n"
   ]
  },
  {
   "cell_type": "code",
   "execution_count": 12,
   "metadata": {},
   "outputs": [
    {
     "data": {
      "text/plain": [
       "Text(0,0.5,'Value')"
      ]
     },
     "execution_count": 12,
     "metadata": {},
     "output_type": "execute_result"
    },
    {
     "data": {
      "image/png": "[encoded data removed]",
      "text/plain": [
       "<matplotlib.figure.Figure at 0x105ff7b70>"
      ]
     },
     "metadata": {},
     "output_type": "display_data"
    }
   ],
   "source": [
    "# Define plot varialbes\n",
    "plot_range = df[df.date.between(s_date.value,e_date.value)]\n",
    "plot_date = plot_range['date']\n",
    "plot_var = plot_range[market.value]\n",
    "\n",
    "# Plot\n",
    "%matplotlib inline\n",
    "plt.plot(plot_date,plot_var)\n",
    "plt.title('Volatility of '+ market.value)\n",
    "plt.xlabel('Date')\n",
    "plt.ylabel('Value')"
   ]
  },
  {
   "cell_type": "code",
   "execution_count": 10,
   "metadata": {},
   "outputs": [
    {
     "data": {
      "text/html": [
       "<div>\n",
       "<style scoped>\n",
       "    .dataframe tbody tr th:only-of-type {\n",
       "        vertical-align: middle;\n",
       "    }\n",
       "\n",
       "    .dataframe tbody tr th {\n",
       "        vertical-align: top;\n",
       "    }\n",
       "\n",
       "    .dataframe thead th {\n",
       "        text-align: right;\n",
       "    }\n",
       "</style>\n",
       "<table border=\"1\" class=\"dataframe\">\n",
       "  <thead>\n",
       "    <tr style=\"text-align: right;\">\n",
       "      <th></th>\n",
       "      <th>date</th>\n",
       "      <th>.VIX</th>\n",
       "      <th>.VIX3M</th>\n",
       "      <th>.BVZ</th>\n",
       "      <th>.VXN</th>\n",
       "      <th>.RVX</th>\n",
       "      <th>.VXD</th>\n",
       "      <th>.VXO</th>\n",
       "      <th>.GSPTXLV</th>\n",
       "      <th>.V2TX</th>\n",
       "      <th>.VFTSE</th>\n",
       "      <th>.VCAC</th>\n",
       "      <th>.V1XI</th>\n",
       "      <th>.VAEX</th>\n",
       "      <th>.V3X</th>\n",
       "      <th>.VHSI</th>\n",
       "      <th>.HSLVI</th>\n",
       "      <th>.KSVKOSPI</th>\n",
       "      <th>.JSAVI</th>\n",
       "    </tr>\n",
       "  </thead>\n",
       "  <tbody>\n",
       "    <tr>\n",
       "      <th>4</th>\n",
       "      <td>2018-06-01</td>\n",
       "      <td>13.46</td>\n",
       "      <td>15.27</td>\n",
       "      <td>13.46</td>\n",
       "      <td>15.11</td>\n",
       "      <td>14.84</td>\n",
       "      <td>14.37</td>\n",
       "      <td>12.52</td>\n",
       "      <td>415.64</td>\n",
       "      <td>15.6231</td>\n",
       "      <td>12.426</td>\n",
       "      <td>14.765</td>\n",
       "      <td>16.53</td>\n",
       "      <td>13.256</td>\n",
       "      <td>14.5643</td>\n",
       "      <td>17.62</td>\n",
       "      <td>8976.30</td>\n",
       "      <td>13.18</td>\n",
       "      <td>16.88</td>\n",
       "    </tr>\n",
       "    <tr>\n",
       "      <th>5</th>\n",
       "      <td>2018-05-31</td>\n",
       "      <td>15.43</td>\n",
       "      <td>16.33</td>\n",
       "      <td>15.43</td>\n",
       "      <td>16.78</td>\n",
       "      <td>16.17</td>\n",
       "      <td>16.15</td>\n",
       "      <td>13.98</td>\n",
       "      <td>415.31</td>\n",
       "      <td>17.6547</td>\n",
       "      <td>13.525</td>\n",
       "      <td>16.337</td>\n",
       "      <td>17.70</td>\n",
       "      <td>14.613</td>\n",
       "      <td>15.4351</td>\n",
       "      <td>18.20</td>\n",
       "      <td>8982.50</td>\n",
       "      <td>14.55</td>\n",
       "      <td>17.15</td>\n",
       "    </tr>\n",
       "    <tr>\n",
       "      <th>6</th>\n",
       "      <td>2018-05-30</td>\n",
       "      <td>14.94</td>\n",
       "      <td>16.00</td>\n",
       "      <td>14.94</td>\n",
       "      <td>17.07</td>\n",
       "      <td>15.39</td>\n",
       "      <td>15.55</td>\n",
       "      <td>13.56</td>\n",
       "      <td>416.09</td>\n",
       "      <td>18.3411</td>\n",
       "      <td>13.651</td>\n",
       "      <td>16.318</td>\n",
       "      <td>17.63</td>\n",
       "      <td>14.905</td>\n",
       "      <td>15.4545</td>\n",
       "      <td>20.04</td>\n",
       "      <td>8875.45</td>\n",
       "      <td>15.52</td>\n",
       "      <td>17.67</td>\n",
       "    </tr>\n",
       "    <tr>\n",
       "      <th>7</th>\n",
       "      <td>2018-05-29</td>\n",
       "      <td>17.02</td>\n",
       "      <td>17.13</td>\n",
       "      <td>17.02</td>\n",
       "      <td>18.42</td>\n",
       "      <td>16.79</td>\n",
       "      <td>17.29</td>\n",
       "      <td>15.41</td>\n",
       "      <td>415.38</td>\n",
       "      <td>20.1545</td>\n",
       "      <td>15.440</td>\n",
       "      <td>17.706</td>\n",
       "      <td>19.15</td>\n",
       "      <td>16.176</td>\n",
       "      <td>15.6261</td>\n",
       "      <td>18.74</td>\n",
       "      <td>8947.02</td>\n",
       "      <td>12.93</td>\n",
       "      <td>17.67</td>\n",
       "    </tr>\n",
       "    <tr>\n",
       "      <th>8</th>\n",
       "      <td>2018-05-28</td>\n",
       "      <td>NaN</td>\n",
       "      <td>NaN</td>\n",
       "      <td>NaN</td>\n",
       "      <td>NaN</td>\n",
       "      <td>NaN</td>\n",
       "      <td>NaN</td>\n",
       "      <td>NaN</td>\n",
       "      <td>417.78</td>\n",
       "      <td>17.7786</td>\n",
       "      <td>11.285</td>\n",
       "      <td>15.930</td>\n",
       "      <td>17.97</td>\n",
       "      <td>14.881</td>\n",
       "      <td>14.4033</td>\n",
       "      <td>17.17</td>\n",
       "      <td>9004.81</td>\n",
       "      <td>12.55</td>\n",
       "      <td>16.89</td>\n",
       "    </tr>\n",
       "  </tbody>\n",
       "</table>\n",
       "</div>"
      ],
      "text/plain": [
       "        date   .VIX  .VIX3M   .BVZ   .VXN   .RVX   .VXD   .VXO  .GSPTXLV  \\\n",
       "4 2018-06-01  13.46   15.27  13.46  15.11  14.84  14.37  12.52    415.64   \n",
       "5 2018-05-31  15.43   16.33  15.43  16.78  16.17  16.15  13.98    415.31   \n",
       "6 2018-05-30  14.94   16.00  14.94  17.07  15.39  15.55  13.56    416.09   \n",
       "7 2018-05-29  17.02   17.13  17.02  18.42  16.79  17.29  15.41    415.38   \n",
       "8 2018-05-28    NaN     NaN    NaN    NaN    NaN    NaN    NaN    417.78   \n",
       "\n",
       "     .V2TX  .VFTSE   .VCAC  .V1XI   .VAEX     .V3X  .VHSI   .HSLVI  .KSVKOSPI  \\\n",
       "4  15.6231  12.426  14.765  16.53  13.256  14.5643  17.62  8976.30      13.18   \n",
       "5  17.6547  13.525  16.337  17.70  14.613  15.4351  18.20  8982.50      14.55   \n",
       "6  18.3411  13.651  16.318  17.63  14.905  15.4545  20.04  8875.45      15.52   \n",
       "7  20.1545  15.440  17.706  19.15  16.176  15.6261  18.74  8947.02      12.93   \n",
       "8  17.7786  11.285  15.930  17.97  14.881  14.4033  17.17  9004.81      12.55   \n",
       "\n",
       "   .JSAVI  \n",
       "4   16.88  \n",
       "5   17.15  \n",
       "6   17.67  \n",
       "7   17.67  \n",
       "8   16.89  "
      ]
     },
     "execution_count": 10,
     "metadata": {},
     "output_type": "execute_result"
    }
   ],
   "source": [
    "# TEST CELL\n",
    "df[df.date.between(s_date.value,e_date.value)]"
   ]
  },
  {
   "cell_type": "code",
   "execution_count": null,
   "metadata": {},
   "outputs": [],
   "source": []
  }
 ],
 "metadata": {
  "kernelspec": {
   "display_name": "Python 3",
   "language": "python",
   "name": "python3"
  },
  "language_info": {
   "codemirror_mode": {
    "name": "ipython",
    "version": 3
   },
   "file_extension": ".py",
   "mimetype": "text/x-python",
   "name": "python",
   "nbconvert_exporter": "python",
   "pygments_lexer": "ipython3",
   "version": "3.6.4"
  }
 },
 "nbformat": 4,
 "nbformat_minor": 2
}
